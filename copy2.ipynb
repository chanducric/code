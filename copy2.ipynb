{
 "cells": [
  {
   "cell_type": "code",
   "execution_count": 1,
   "metadata": {},
   "outputs": [
    {
     "name": "stdout",
     "output_type": "stream",
     "text": [
      "Running on device: cpu\n",
      "Downloading http://fashion-mnist.s3-website.eu-central-1.amazonaws.com/train-images-idx3-ubyte.gz\n",
      "Downloading http://fashion-mnist.s3-website.eu-central-1.amazonaws.com/train-images-idx3-ubyte.gz to ./data\\FashionMNIST\\raw\\train-images-idx3-ubyte.gz\n"
     ]
    },
    {
     "name": "stderr",
     "output_type": "stream",
     "text": [
      "100%|██████████| 26421880/26421880 [00:20<00:00, 1308219.53it/s]\n"
     ]
    },
    {
     "name": "stdout",
     "output_type": "stream",
     "text": [
      "Extracting ./data\\FashionMNIST\\raw\\train-images-idx3-ubyte.gz to ./data\\FashionMNIST\\raw\n",
      "\n",
      "Downloading http://fashion-mnist.s3-website.eu-central-1.amazonaws.com/train-labels-idx1-ubyte.gz\n",
      "Downloading http://fashion-mnist.s3-website.eu-central-1.amazonaws.com/train-labels-idx1-ubyte.gz to ./data\\FashionMNIST\\raw\\train-labels-idx1-ubyte.gz\n"
     ]
    },
    {
     "name": "stderr",
     "output_type": "stream",
     "text": [
      "100%|██████████| 29515/29515 [00:00<00:00, 118014.64it/s]\n"
     ]
    },
    {
     "name": "stdout",
     "output_type": "stream",
     "text": [
      "Extracting ./data\\FashionMNIST\\raw\\train-labels-idx1-ubyte.gz to ./data\\FashionMNIST\\raw\n",
      "\n",
      "Downloading http://fashion-mnist.s3-website.eu-central-1.amazonaws.com/t10k-images-idx3-ubyte.gz\n",
      "Downloading http://fashion-mnist.s3-website.eu-central-1.amazonaws.com/t10k-images-idx3-ubyte.gz to ./data\\FashionMNIST\\raw\\t10k-images-idx3-ubyte.gz\n"
     ]
    },
    {
     "name": "stderr",
     "output_type": "stream",
     "text": [
      "100%|██████████| 4422102/4422102 [00:09<00:00, 487941.40it/s] \n"
     ]
    },
    {
     "name": "stdout",
     "output_type": "stream",
     "text": [
      "Extracting ./data\\FashionMNIST\\raw\\t10k-images-idx3-ubyte.gz to ./data\\FashionMNIST\\raw\n",
      "\n",
      "Downloading http://fashion-mnist.s3-website.eu-central-1.amazonaws.com/t10k-labels-idx1-ubyte.gz\n",
      "Downloading http://fashion-mnist.s3-website.eu-central-1.amazonaws.com/t10k-labels-idx1-ubyte.gz to ./data\\FashionMNIST\\raw\\t10k-labels-idx1-ubyte.gz\n"
     ]
    },
    {
     "name": "stderr",
     "output_type": "stream",
     "text": [
      "100%|██████████| 5148/5148 [00:00<00:00, 5189203.80it/s]\n"
     ]
    },
    {
     "name": "stdout",
     "output_type": "stream",
     "text": [
      "Extracting ./data\\FashionMNIST\\raw\\t10k-labels-idx1-ubyte.gz to ./data\\FashionMNIST\\raw\n",
      "\n",
      "Epoch 1/5, Loss: 0.4299\n",
      "Epoch 2/5, Loss: 0.2723\n",
      "Epoch 3/5, Loss: 0.2268\n",
      "Epoch 4/5, Loss: 0.1927\n",
      "Epoch 5/5, Loss: 0.1674\n",
      "Test Accuracy: 91.51%\n",
      "Precision: 0.9158\n",
      "Recall: 0.9151\n",
      "Saved predictions to predicted_images.png\n"
     ]
    },
    {
     "data": {
      "image/png": "[encoded data removed]",
      "text/plain": [
       "<Figure size 1500x500 with 5 Axes>"
      ]
     },
     "metadata": {},
     "output_type": "display_data"
    }
   ],
   "source": [
    "import torch\n",
    "import torch.nn as nn\n",
    "import torch.optim as optim\n",
    "from torchvision import datasets, transforms\n",
    "from torch.utils.data import DataLoader\n",
    "import matplotlib.pyplot as plt\n",
    "from sklearn.metrics import precision_score, recall_score\n",
    "import os\n",
    "\n",
    "# Set the device to CUDA if GPU is available, else CPU\n",
    "compute_device = torch.device(\"cuda\" if torch.cuda.is_available() else \"cpu\")\n",
    "print(f\"Running on device: {compute_device}\")\n",
    "\n",
    "# Data preprocessing: normalizing images for better training performance\n",
    "data_transforms = transforms.Compose([\n",
    "    transforms.ToTensor(),\n",
    "    transforms.Normalize((0.5,), (0.5,))  # Normalize pixel values\n",
    "])\n",
    "\n",
    "# Download the FashionMNIST dataset\n",
    "train_set = datasets.FashionMNIST(root='./data', train=True, download=True, transform=data_transforms)\n",
    "test_set = datasets.FashionMNIST(root='./data', train=False, download=True, transform=data_transforms)\n",
    "\n",
    "# DataLoader setup for batching\n",
    "train_batch = DataLoader(train_set, batch_size=64, shuffle=True)\n",
    "test_batch = DataLoader(test_set, batch_size=64, shuffle=False)\n",
    "\n",
    "# Define a custom Convolutional Neural Network class for image classification\n",
    "class SimpleCNN(nn.Module):\n",
    "    def __init__(self):\n",
    "        super(SimpleCNN, self).__init__()\n",
    "        # Layer 1: Convolutional layer (32 filters, kernel size 3)\n",
    "        self.conv_layer1 = nn.Conv2d(1, 32, kernel_size=3, padding=1)\n",
    "        # Layer 2: Convolutional layer (64 filters, kernel size 3)\n",
    "        self.conv_layer2 = nn.Conv2d(32, 64, kernel_size=3, padding=1)\n",
    "        # Fully connected layer with 128 units\n",
    "        self.fc_layer1 = nn.Linear(64 * 7 * 7, 128)\n",
    "        # Final output layer (10 classes)\n",
    "        self.fc_layer2 = nn.Linear(128, 10)\n",
    "\n",
    "    def forward(self, x):\n",
    "        # Pass the input through the network layers\n",
    "        x = torch.relu(self.conv_layer1(x))\n",
    "        x = torch.max_pool2d(x, 2)  # Max pooling with stride 2\n",
    "        x = torch.relu(self.conv_layer2(x))\n",
    "        x = torch.max_pool2d(x, 2)  # Max pooling with stride 2\n",
    "        x = x.view(x.size(0), -1)  # Flatten the tensor for fully connected layer\n",
    "        x = torch.relu(self.fc_layer1(x))\n",
    "        x = self.fc_layer2(x)\n",
    "        return x\n",
    "\n",
    "# Initialize the model\n",
    "cnn_model = SimpleCNN().to(compute_device)\n",
    "\n",
    "# Use multiple GPUs if available\n",
    "if torch.cuda.device_count() > 1:\n",
    "    cnn_model = nn.DataParallel(cnn_model)\n",
    "\n",
    "# Define loss function and optimizer\n",
    "loss_criterion = nn.CrossEntropyLoss()\n",
    "optimizer = optim.Adam(cnn_model.parameters(), lr=0.001)\n",
    "\n",
    "# Training function\n",
    "def train_cnn(model, data_loader, optimizer, loss_function, device, epochs=5):\n",
    "    model.train()  # Set the model to training mode\n",
    "    for epoch in range(epochs):\n",
    "        epoch_loss = 0.0\n",
    "        for images, labels in data_loader:\n",
    "            images, labels = images.to(device), labels.to(device)\n",
    "            \n",
    "            optimizer.zero_grad()  # Zero the gradients\n",
    "            \n",
    "            outputs = model(images)  # Get predictions\n",
    "            loss = loss_function(outputs, labels)  # Calculate loss\n",
    "            loss.backward()  # Backpropagate the loss\n",
    "            optimizer.step()  # Update model weights\n",
    "            \n",
    "            epoch_loss += loss.item()  # Accumulate loss for the epoch\n",
    "\n",
    "        print(f\"Epoch {epoch + 1}/{epochs}, Loss: {epoch_loss / len(data_loader):.4f}\")\n",
    "\n",
    "# Start training the model\n",
    "train_cnn(cnn_model, train_batch, optimizer, loss_criterion, compute_device)\n",
    "\n",
    "# Evaluation function\n",
    "def evaluate_cnn(model, data_loader, device):\n",
    "    model.eval()  # Set the model to evaluation mode\n",
    "    total_correct = 0\n",
    "    total_samples = 0\n",
    "    all_preds = []\n",
    "    all_labels = []\n",
    "    \n",
    "    with torch.no_grad():  # No need to calculate gradients during evaluation\n",
    "        for images, labels in data_loader:\n",
    "            images, labels = images.to(device), labels.to(device)\n",
    "            predictions = model(images)  # Get model predictions\n",
    "            _, predicted_labels = torch.max(predictions, 1)\n",
    "            \n",
    "            total_samples += labels.size(0)\n",
    "            total_correct += (predicted_labels == labels).sum().item()  # Count correct predictions\n",
    "            \n",
    "            all_preds.extend(predicted_labels.cpu().numpy())\n",
    "            all_labels.extend(labels.cpu().numpy())\n",
    "\n",
    "    accuracy = 100 * total_correct / total_samples\n",
    "    precision = precision_score(all_labels, all_preds, average='macro')\n",
    "    recall = recall_score(all_labels, all_preds, average='macro')\n",
    "\n",
    "    print(f\"Test Accuracy: {accuracy:.2f}%\")\n",
    "    print(f\"Precision: {precision:.4f}\")\n",
    "    print(f\"Recall: {recall:.4f}\")\n",
    "\n",
    "    return accuracy, precision, recall\n",
    "\n",
    "# Evaluate the trained model\n",
    "evaluate_cnn(cnn_model, test_batch, compute_device)\n",
    "\n",
    "# Visualization and saving predicted images\n",
    "def plot_and_save_predictions(model, data_loader, device, num_images=5, save_path='predicted_images.png'):\n",
    "    model.eval()\n",
    "    images, labels = next(iter(data_loader))\n",
    "    images, labels = images[:num_images].to(device), labels[:num_images].to(device)\n",
    "    \n",
    "    predictions = model(images)\n",
    "    _, predicted_labels = torch.max(predictions, 1)\n",
    "    \n",
    "    # Plot the images along with predicted and true labels\n",
    "    fig, ax = plt.subplots(1, num_images, figsize=(15, 5))\n",
    "    for i in range(num_images):\n",
    "        ax[i].imshow(images[i].cpu().squeeze(), cmap='gray')  # Squeeze to remove extra color channels\n",
    "        ax[i].set_title(f\"Pred: {predicted_labels[i].item()} | True: {labels[i].item()}\")\n",
    "        ax[i].axis('off')  # Remove axes for cleaner output\n",
    "\n",
    "    # Save the visualization to a file\n",
    "    plt.savefig(save_path)\n",
    "    print(f\"Saved predictions to {save_path}\")\n",
    "    \n",
    "    plt.show()\n",
    "\n",
    "# Call the function to visualize and save the predictions\n",
    "plot_and_save_predictions(cnn_model, test_batch, compute_device, num_images=5, save_path='predicted_images.png')\n"
   ]
  }
 ],
 "metadata": {
  "kernelspec": {
   "display_name": "Python 3",
   "language": "python",
   "name": "python3"
  },
  "language_info": {
   "codemirror_mode": {
    "name": "ipython",
    "version": 3
   },
   "file_extension": ".py",
   "mimetype": "text/x-python",
   "name": "python",
   "nbconvert_exporter": "python",
   "pygments_lexer": "ipython3",
   "version": "3.12.7"
  }
 },
 "nbformat": 4,
 "nbformat_minor": 2
}
